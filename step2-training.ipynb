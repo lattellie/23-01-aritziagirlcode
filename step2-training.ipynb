{
 "cells": [
  {
   "cell_type": "code",
   "execution_count": 2,
   "metadata": {},
   "outputs": [
    {
     "name": "stdout",
     "output_type": "stream",
     "text": [
      "['autumn' 'winter' 'summer' 'autumn' 'summer' 'winter' 'winter' 'autumn'\n",
      " 'winter' 'summer' 'winter' 'summer' 'autumn' 'summer' 'winter' 'summer'\n",
      " 'winter' 'winter' 'summer' 'summer' 'autumn' 'winter' 'summer' 'winter'\n",
      " 'summer' 'winter' 'autumn' 'winter' 'winter' 'summer' 'winter' 'winter'\n",
      " 'summer' 'summer' 'winter' 'autumn' 'autumn']\n",
      "              precision    recall  f1-score   support\n",
      "\n",
      "      summer       0.62      0.50      0.56        10\n",
      "      spring       0.00      0.00      0.00         5\n",
      "      winter       0.62      0.73      0.67        11\n",
      "      autumn       0.62      0.91      0.74        11\n",
      "\n",
      "    accuracy                           0.62        37\n",
      "   macro avg       0.47      0.53      0.49        37\n",
      "weighted avg       0.54      0.62      0.57        37\n",
      "\n",
      "The accuracy of the Decision Tree is 0.622\n"
     ]
    },
    {
     "name": "stderr",
     "output_type": "stream",
     "text": [
      "/usr/local/lib/python3.10/dist-packages/sklearn/metrics/_classification.py:1344: UndefinedMetricWarning: Precision and F-score are ill-defined and being set to 0.0 in labels with no predicted samples. Use `zero_division` parameter to control this behavior.\n",
      "  _warn_prf(average, modifier, msg_start, len(result))\n",
      "/usr/local/lib/python3.10/dist-packages/sklearn/metrics/_classification.py:1344: UndefinedMetricWarning: Precision and F-score are ill-defined and being set to 0.0 in labels with no predicted samples. Use `zero_division` parameter to control this behavior.\n",
      "  _warn_prf(average, modifier, msg_start, len(result))\n",
      "/usr/local/lib/python3.10/dist-packages/sklearn/metrics/_classification.py:1344: UndefinedMetricWarning: Precision and F-score are ill-defined and being set to 0.0 in labels with no predicted samples. Use `zero_division` parameter to control this behavior.\n",
      "  _warn_prf(average, modifier, msg_start, len(result))\n"
     ]
    }
   ],
   "source": [
    "import pandas as pd\n",
    "import numpy as np\n",
    "import matplotlib.pyplot as plt\n",
    "\n",
    "from sklearn import metrics\n",
    "from sklearn.model_selection import train_test_split\n",
    "from sklearn.svm import SVC\n",
    "\n",
    "data0 = pd.read_csv('datall.csv')\n",
    "\n",
    "data0.head()\n",
    "\n",
    "dict_ = {1:\"summer\",2:\"spring\",3:\"autumn\",4:\"winter\"}\n",
    "data = data0.copy()\n",
    "data['season']=data['y'].map(lambda x: dict_[x])\n",
    "data = data.drop(columns=\"y\")\n",
    "data.head()\n",
    "listx = ['summer','spring','winter','autumn']\n",
    "train, test = train_test_split(data, test_size = 0.4, stratify = data['season'], random_state = 42)\n",
    "train = train[['season','r','g','b','hue','sat']]\n",
    "X_train = train[['hue','sat']]\n",
    "Y_train = train.season\n",
    "X_test = test[['hue','sat']]\n",
    "Y_test = test.season\n",
    "'''\n",
    "from sklearn.tree import DecisionTreeClassifier, plot_tree\n",
    "mod_dt = DecisionTreeClassifier(max_depth = 3, random_state = 66)\n",
    "mod_dt.fit(X_train,Y_train)\n",
    "prediction=mod_dt.predict(X_test)\n",
    "print(metrics.classification_report(Y_test, pred, target_names=listx))\n",
    "print('The accuracy of the Decision Tree is',\"{:.3f}\".format(metrics.accuracy_score(prediction,Y_test)))\n",
    "'''\n",
    "train, test = train_test_split(data, test_size = 0.3, stratify = data['season'], random_state = 42)\n",
    "train = train[['season','l','r','g','b','hue','sat','val']]\n",
    "X_train = train[['g','b','val','sat']]\n",
    "Y_train = train.season\n",
    "X_test = test[['g','b','val','sat']]\n",
    "Y_test = test.season\n",
    "clf=SVC()\n",
    "clf.fit(X_train, Y_train)\n",
    "pred = clf.predict(X_test)\n",
    "print(pred)\n",
    "\n",
    "print(metrics.classification_report(Y_test, pred, target_names=listx))\n",
    "print('The accuracy of the Decision Tree is',\"{:.3f}\".format(metrics.accuracy_score(pred,Y_test)))\n",
    "#accuracy: 0.622\n",
    "\n",
    "import pickle\n",
    "with open('model.pickle','wb') as f:\n",
    "  pickle.dump(clf, f)"
   ]
  },
  {
   "cell_type": "code",
   "execution_count": null,
   "metadata": {},
   "outputs": [],
   "source": []
  }
 ],
 "metadata": {
  "kernelspec": {
   "display_name": "Python 3",
   "language": "python",
   "name": "python3"
  },
  "language_info": {
   "codemirror_mode": {
    "name": "ipython",
    "version": 3
   },
   "file_extension": ".py",
   "mimetype": "text/x-python",
   "name": "python",
   "nbconvert_exporter": "python",
   "pygments_lexer": "ipython3",
   "version": "3.10.6"
  },
  "orig_nbformat": 4,
  "vscode": {
   "interpreter": {
    "hash": "916dbcbb3f70747c44a77c7bcd40155683ae19c65e1c03b4aa3499c5328201f1"
   }
  }
 },
 "nbformat": 4,
 "nbformat_minor": 2
}
