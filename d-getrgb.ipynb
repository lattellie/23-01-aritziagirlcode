{
 "cells": [
  {
   "cell_type": "code",
   "execution_count": 20,
   "metadata": {},
   "outputs": [
    {
     "name": "stdout",
     "output_type": "stream",
     "text": [
      "[(124, 116, 68), (172, 132, 60), (228, 156, 100)]\n",
      "[(228, 140, 180), (196, 68, 84), (196, 220, 244)]\n",
      "[(60, 36, 20), (100, 44, 44), (28, 36, 68)]\n",
      "[(236, 180, 60), (92, 188, 196), (92, 132, 52)]\n"
     ]
    }
   ],
   "source": [
    "from colorthief import ColorThief\n",
    "dict_={'autumn':0,'summer':1,'winter':2,'spring':3}\n",
    "dict2=dict()\n",
    "listseason = ['autumn','summer','winter','spring']\n",
    "c=0\n",
    "for i in listseason:\n",
    "    ct = ColorThief(f'{i}.jpg')\n",
    "    dominant_color = ct.get_color(quality=1)\n",
    "    colors = ct.get_palette(color_count=2, quality=1)\n",
    "    dict2[listseason[c]] = colors\n",
    "    print(colors)\n",
    "    c+=1"
   ]
  },
  {
   "cell_type": "code",
   "execution_count": 21,
   "metadata": {},
   "outputs": [],
   "source": [
    "import pickle\n",
    "with open('mapseason.pickle','wb') as f:\n",
    "  pickle.dump(dict2, f)"
   ]
  },
  {
   "cell_type": "code",
   "execution_count": null,
   "metadata": {},
   "outputs": [],
   "source": []
  }
 ],
 "metadata": {
  "kernelspec": {
   "display_name": "Python 3",
   "language": "python",
   "name": "python3"
  },
  "language_info": {
   "codemirror_mode": {
    "name": "ipython",
    "version": 3
   },
   "file_extension": ".py",
   "mimetype": "text/x-python",
   "name": "python",
   "nbconvert_exporter": "python",
   "pygments_lexer": "ipython3",
   "version": "3.10.6"
  },
  "orig_nbformat": 4,
  "vscode": {
   "interpreter": {
    "hash": "916dbcbb3f70747c44a77c7bcd40155683ae19c65e1c03b4aa3499c5328201f1"
   }
  }
 },
 "nbformat": 4,
 "nbformat_minor": 2
}
